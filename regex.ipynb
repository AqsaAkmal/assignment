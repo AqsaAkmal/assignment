{
 "cells": [
  {
   "cell_type": "markdown",
   "id": "dd2c7d8a",
   "metadata": {},
   "source": [
    "# Advanced Regular Expression Assignments\n",
    "Assignment 1: Extracting Phone Numbers\n",
    "Raw Text: Extract all valid Pakistani phone numbers from a given text.\n",
    "\n",
    "Example:\n",
    "\n",
    "Text: Please contact me at 0301-1234567 or 042-35678901 for further details."
   ]
  },
  {
   "cell_type": "code",
   "execution_count": 1,
   "id": "f1b5482d",
   "metadata": {},
   "outputs": [
    {
     "data": {
      "text/plain": [
       "['0301-1234567', '042-35678901']"
      ]
     },
     "execution_count": 1,
     "metadata": {},
     "output_type": "execute_result"
    }
   ],
   "source": [
    "import re\n",
    "text_1= \"\"\"\n",
    "Please contact me at 0301-1234567 or 042-35678901 for further details.\n",
    "\"\"\"\n",
    "pattern_1 = r\"\\d{3,4}-\\d{7,8}\"\n",
    "phone_number= re.findall(pattern_1, text_1, re.MULTILINE)\n",
    "phone_number"
   ]
  },
  {
   "cell_type": "raw",
   "id": "70e59a3a",
   "metadata": {},
   "source": [
    "# Assignment 2: Validating Email Addresses\n",
    "Raw Text: Validate email addresses according to Pakistani domain extensions (.pk).\n",
    "\n",
    "Example:\n",
    "\n",
    "Text: Contact us at info@example.com or support@domain.pk for assistance."
   ]
  },
  {
   "cell_type": "code",
   "execution_count": 2,
   "id": "175e56ea",
   "metadata": {},
   "outputs": [
    {
     "data": {
      "text/plain": [
       "['support@domain.pk']"
      ]
     },
     "execution_count": 2,
     "metadata": {},
     "output_type": "execute_result"
    }
   ],
   "source": [
    "text_2= \"\"\"\n",
    "Contact us at info@example.com or support@domain.pk for assistance.\n",
    "\"\"\"\n",
    "pattern_2 = r\"\\b([\\w\\-\\.]+@[\\w]+\\.pk)\\b\"\n",
    "\n",
    "pakistani_email = re.findall(pattern_2,text_2,re.MULTILINE)\n",
    "pakistani_email"
   ]
  },
  {
   "cell_type": "markdown",
   "id": "2c5f518f",
   "metadata": {},
   "source": [
    "Assignment 3: Extracting CNIC Numbers\n",
    "Raw Text: Extract all Pakistani CNIC (Computerized National Identity Card) numbers from a given text.\n",
    "\n",
    "Example:\n",
    "\n",
    "Text: My CNIC is 12345-6789012-3 and another one is 34567-8901234-5."
   ]
  },
  {
   "cell_type": "code",
   "execution_count": 3,
   "id": "b3eee241",
   "metadata": {},
   "outputs": [
    {
     "data": {
      "text/plain": [
       "['12345-6789012-3', '34567-8901234-5']"
      ]
     },
     "execution_count": 3,
     "metadata": {},
     "output_type": "execute_result"
    }
   ],
   "source": [
    "text_3 = \"\"\"\n",
    "My CNIC is 12345-6789012-3 and another one is 34567-8901234-5.\n",
    "\"\"\"\n",
    "pattern_3 = r\"\\b(\\d{5}\\-\\d{7}\\-\\d)\"\n",
    "pakistani_cnic = re.findall(pattern_3,text_3,re.MULTILINE)\n",
    "pakistani_cnic"
   ]
  },
  {
   "cell_type": "markdown",
   "id": "22b51b1f",
   "metadata": {},
   "source": [
    "Assignment 4: Identifying Urdu Words\n",
    "Raw Text: Identify and extract Urdu words from a mixed English-Urdu text.\n",
    "\n",
    "Example:\n",
    "\n",
    "Text: یہ sentence میں کچھ English words بھی ہیں۔"
   ]
  },
  {
   "cell_type": "code",
   "execution_count": 6,
   "id": "2acaf9aa",
   "metadata": {},
   "outputs": [
    {
     "data": {
      "text/plain": [
       "['یہ', 'میں', 'کچھ', 'بھی', 'ہیں']"
      ]
     },
     "execution_count": 6,
     "metadata": {},
     "output_type": "execute_result"
    }
   ],
   "source": [
    "text_4 = \"\"\"\n",
    " یہ sentence میں کچھ English words بھی ہیں۔\n",
    "\"\"\"\n",
    "\n",
    "pattern_4 =r'\\b[آ-ی]+\\b'\n",
    "\n",
    "urdu_text = re.findall(pattern_4,text_4,re.MULTILINE)\n",
    "urdu_text"
   ]
  },
  {
   "cell_type": "markdown",
   "id": "1f8954a7",
   "metadata": {},
   "source": [
    "Assignment 5: Finding Dates\n",
    "Raw Text: Find and extract dates in the format DD-MM-YYYY from a given text.\n",
    "\n",
    "Example:\n",
    "\n",
    "Text: The event will take place on 15-08-2023 and 23-09-2023."
   ]
  },
  {
   "cell_type": "code",
   "execution_count": 7,
   "id": "11a0c46b",
   "metadata": {},
   "outputs": [
    {
     "data": {
      "text/plain": [
       "['15-08-2023', '23-09-2023']"
      ]
     },
     "execution_count": 7,
     "metadata": {},
     "output_type": "execute_result"
    }
   ],
   "source": [
    "text_5 = \"\"\"\n",
    "The event will take place on 15-08-2023 and 23-09-2023.\n",
    "\"\"\"\n",
    "pattern_5 = r\"\\b(\\d{1,2}\\-\\d{1,2}\\-\\d{4})\\b\"\n",
    "\n",
    "dates = re.findall(pattern_5,text_5,re.MULTILINE)\n",
    "dates"
   ]
  },
  {
   "cell_type": "markdown",
   "id": "f664cebc",
   "metadata": {},
   "source": [
    "Assignment 6: Extracting URLs\n",
    "Raw Text: Extract all URLs from a text that belong to Pakistani domains.\n",
    "\n",
    "Example:\n",
    "\n",
    "Text: Visit http://www.example.pk or https://website.com.pk for more information."
   ]
  },
  {
   "cell_type": "code",
   "execution_count": 8,
   "id": "22a7e3bd",
   "metadata": {},
   "outputs": [
    {
     "data": {
      "text/plain": [
       "['http://www.example.pk', 'https://website.com.pk']"
      ]
     },
     "execution_count": 8,
     "metadata": {},
     "output_type": "execute_result"
    }
   ],
   "source": [
    "text_6 = \"\"\"\n",
    "Visit http://www.example.pk or https://website.com.pk for more information.\n",
    "\"\"\"\n",
    "pattern_6 = r\"\\b([https://]+[\\w]+\\.[\\w]+.pk)\\b\"\n",
    "\n",
    "url_pk = re.findall(pattern_6, text_6, re.MULTILINE)\n",
    "url_pk"
   ]
  },
  {
   "cell_type": "markdown",
   "id": "9c41d3b7",
   "metadata": {},
   "source": [
    "Assignment 7: Analyzing Currency\n",
    "Raw Text: Extract and analyze currency amounts in Pakistani Rupees (PKR) from a given text.\n",
    "\n",
    "Example:\n",
    "\n",
    "Text: The product costs PKR 1500, while the deluxe version is priced at Rs. 2500."
   ]
  },
  {
   "cell_type": "code",
   "execution_count": 9,
   "id": "4842f65e",
   "metadata": {},
   "outputs": [
    {
     "data": {
      "text/plain": [
       "['1500', '2500']"
      ]
     },
     "execution_count": 9,
     "metadata": {},
     "output_type": "execute_result"
    }
   ],
   "source": [
    "text_7 = \"\"\"\n",
    "The product costs PKR 1500, while the deluxe version is priced at Rs. 2500.\n",
    "\"\"\"\n",
    "pattern_7 = r\"\\b(?:[PKRs]+\\.?\\s(\\d{4}))\"\n",
    "\n",
    "rupees = re.findall(pattern_7,text_7,re.MULTILINE)\n",
    "rupees"
   ]
  },
  {
   "cell_type": "markdown",
   "id": "ef57140a",
   "metadata": {},
   "source": [
    "Assignment 8: Removing Punctuation\n",
    "Raw Text: Remove all punctuation marks from a text while preserving Urdu characters.\n",
    "\n",
    "Example:\n",
    "\n",
    "Text: کیا! آپ, یہاں؟"
   ]
  },
  {
   "cell_type": "code",
   "execution_count": 10,
   "id": "78bcb78d",
   "metadata": {},
   "outputs": [
    {
     "data": {
      "text/plain": [
       "['کیا', 'آپ', 'یہاں']"
      ]
     },
     "execution_count": 10,
     "metadata": {},
     "output_type": "execute_result"
    }
   ],
   "source": [
    "text_8=\"\"\"\n",
    "کیا! آپ, یہاں؟\n",
    "\"\"\"\n",
    "pattern_8 = r\"\\b([^\\W]+)\"\n",
    "\n",
    "urdu_without_punctuation = re.findall(pattern_8,text_8,re.MULTILINE)\n",
    "urdu_without_punctuation"
   ]
  },
  {
   "cell_type": "markdown",
   "id": "d31622ca",
   "metadata": {},
   "source": [
    "Assignment 9: Extracting City Names\n",
    "Raw Text: Extract names of Pakistani cities from a given text.\n",
    "\n",
    "Example:\n",
    "\n",
    "Text: Lahore, Karachi, Islamabad, and Peshawar are major cities of Pakistan."
   ]
  },
  {
   "cell_type": "code",
   "execution_count": 11,
   "id": "20128a2a",
   "metadata": {},
   "outputs": [
    {
     "data": {
      "text/plain": [
       "[('Lahore', 'Karachi', 'Islamabad', 'Peshawar')]"
      ]
     },
     "execution_count": 11,
     "metadata": {},
     "output_type": "execute_result"
    }
   ],
   "source": [
    "text_9 = \"\"\"\n",
    "Lahore, Karachi, Islamabad, and Peshawar are major cities of Pakistan.\n",
    "\"\"\"\n",
    "pattern_9 = r\"\\b(?:([\\w]+)\\,\\s([\\w]+)\\,\\s([\\w]+)\\,\\sand\\s([\\w]+))\\b\"\n",
    "\n",
    "city_pakistan = re.findall(pattern_9,text_9,re.MULTILINE)\n",
    "city_pakistan"
   ]
  },
  {
   "cell_type": "markdown",
   "id": "55eb1918",
   "metadata": {},
   "source": [
    "Assignment 10: Analyzing Vehicle Numbers\n",
    "Raw Text: Identify and extract Pakistani vehicle registration numbers (e.g., ABC-123) from a text.\n",
    "\n",
    "Example:\n",
    "\n",
    "Text: I saw a car with the number plate LEA-567 near the market."
   ]
  },
  {
   "cell_type": "code",
   "execution_count": 12,
   "id": "4c97a0cd",
   "metadata": {},
   "outputs": [
    {
     "data": {
      "text/plain": [
       "['LEA-567']"
      ]
     },
     "execution_count": 12,
     "metadata": {},
     "output_type": "execute_result"
    }
   ],
   "source": [
    "text_10 = \"\"\"\n",
    "I saw a car with the number plate LEA-567 near the market.\n",
    "\"\"\"\n",
    "pattern_10 = r\"\\b(\\D{3}\\-\\d{3})\\b\"\n",
    "\n",
    "registeration_number = re.findall(pattern_10,text_10,re.MULTILINE)\n",
    "registeration_number"
   ]
  },
  {
   "cell_type": "code",
   "execution_count": null,
   "id": "19516dbe",
   "metadata": {},
   "outputs": [],
   "source": []
  }
 ],
 "metadata": {
  "kernelspec": {
   "display_name": "Python 3 (ipykernel)",
   "language": "python",
   "name": "python3"
  },
  "language_info": {
   "codemirror_mode": {
    "name": "ipython",
    "version": 3
   },
   "file_extension": ".py",
   "mimetype": "text/x-python",
   "name": "python",
   "nbconvert_exporter": "python",
   "pygments_lexer": "ipython3",
   "version": "3.11.3"
  }
 },
 "nbformat": 4,
 "nbformat_minor": 5
}
