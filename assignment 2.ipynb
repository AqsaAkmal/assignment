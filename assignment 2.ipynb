{
 "cells": [
  {
   "cell_type": "code",
   "execution_count": 4,
   "id": "ee1a8925",
   "metadata": {},
   "outputs": [
    {
     "name": "stdout",
     "output_type": "stream",
     "text": [
      "My name is Aqsa, I am 32 years old, and I live in U.A.E\n"
     ]
    }
   ],
   "source": [
    "#Program 1\n",
    "\n",
    "Name=\"Aqsa\"\n",
    "Age=32\n",
    "country=\"U.A.E\"\n",
    "\n",
    "print(\"My name is \" + Name + \", I am \" + str(Age) + \" years old, and I live in \" + country)"
   ]
  },
  {
   "cell_type": "code",
   "execution_count": 5,
   "id": "35e51c9a",
   "metadata": {},
   "outputs": [
    {
     "name": "stdout",
     "output_type": "stream",
     "text": [
      "I bought 3 book at 10 each, for a total of $30\n"
     ]
    }
   ],
   "source": [
    "#Program 2\n",
    "\n",
    "item=\"book\"\n",
    "price=10\n",
    "quantity=3\n",
    "\n",
    "total_cost_of_item = price * quantity\n",
    "\n",
    "format_string=(\"I bought {} {} at {} each, for a total of ${}\".format(quantity,item,price,total_cost_of_item))\n",
    "print(format_string)"
   ]
  },
  {
   "cell_type": "code",
   "execution_count": 4,
   "id": "f7e592e3",
   "metadata": {},
   "outputs": [
    {
     "name": "stdout",
     "output_type": "stream",
     "text": [
      "The temperature in abu dhabi is 36°C.\n"
     ]
    }
   ],
   "source": [
    "#Program 3\n",
    "\n",
    "city=\"abu dhabi\"\n",
    "temperature=36\n",
    "\n",
    "format=f\"The temperature in {city} is {temperature}°C.\"\n",
    "print(format)"
   ]
  },
  {
   "cell_type": "code",
   "execution_count": 6,
   "id": "ce5fd800",
   "metadata": {},
   "outputs": [
    {
     "name": "stdout",
     "output_type": "stream",
     "text": [
      "My name is aqsa akmal. I am 33 years old.\n"
     ]
    }
   ],
   "source": [
    "#program#4\n",
    "\n",
    "\n",
    "import datetime\n",
    "\n",
    "first_name=\"aqsa\"\n",
    "last_name=\"akmal\"\n",
    "birth_year=1990\n",
    "current_year=datetime.datetime.now().year\n",
    "age=current_year-int(birth_year)\n",
    "\n",
    "print(\"My name is %s %s. I am %d years old.\"%(first_name,last_name,age))\n",
    "\n"
   ]
  },
  {
   "cell_type": "code",
   "execution_count": 7,
   "id": "f6e63a01",
   "metadata": {},
   "outputs": [
    {
     "name": "stdout",
     "output_type": "stream",
     "text": [
      "The Television original price 10000 and after 10 discount 9000.0\n",
      "The Television original price 10000 and after 10 discount 9000\n",
      "The Television original price 10000 and after 10 discount 9000.0\n",
      "The Television original price 10000 and after 10 discount 9000.0\n"
     ]
    }
   ],
   "source": [
    "#program#5\n",
    "\n",
    "product=\"Television\"\n",
    "discount=10\n",
    "original_price=10000\n",
    "\n",
    "discounted_price_calculation = (original_price * (1 - discount / 100))\n",
    "\n",
    "\n",
    "print(f\"The {product} original price {original_price} and after {discount} discount {discounted_price_calculation}\")\n",
    "print(\"The %s original price %d and after %d discount %d\"%(product,original_price,discount,discounted_price_calculation))\n",
    "print('The {} original price {} and after {} discount {}' .format(product,original_price,discount,discounted_price_calculation))\n",
    "print(\"The \" + product + \" original price \" + str(original_price) + \" and after \"+ str(discount) + \" discount \" + str(discounted_price_calculation))"
   ]
  }
 ],
 "metadata": {
  "kernelspec": {
   "display_name": "Python 3 (ipykernel)",
   "language": "python",
   "name": "python3"
  },
  "language_info": {
   "codemirror_mode": {
    "name": "ipython",
    "version": 3
   },
   "file_extension": ".py",
   "mimetype": "text/x-python",
   "name": "python",
   "nbconvert_exporter": "python",
   "pygments_lexer": "ipython3",
   "version": "3.11.3"
  }
 },
 "nbformat": 4,
 "nbformat_minor": 5
}
