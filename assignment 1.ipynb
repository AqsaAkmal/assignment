{
 "cells": [
  {
   "cell_type": "code",
   "execution_count": null,
   "id": "a073fa65",
   "metadata": {},
   "outputs": [],
   "source": [
    "# print hello world program 1\n",
    "\n",
    "a= \"hello world\"\n",
    "print(a)\n"
   ]
  },
  {
   "cell_type": "code",
   "execution_count": null,
   "id": "64823c61",
   "metadata": {},
   "outputs": [],
   "source": [
    "# print hello world using dictionary program 2\n",
    "\n",
    "my_dict={\"value\":\"Hello world\"}\n",
    "print(my_dict[\"value\"])"
   ]
  },
  {
   "cell_type": "code",
   "execution_count": 8,
   "id": "70d3a26e",
   "metadata": {},
   "outputs": [
    {
     "name": "stdout",
     "output_type": "stream",
     "text": [
      "Hello world\n"
     ]
    }
   ],
   "source": [
    "# concatenate hello world  program 3\n",
    "\n",
    "a= \"Hello\"\n",
    "b=\"world\"\n",
    "\n",
    "c= a + \" \" +b\n",
    "print(c) "
   ]
  },
  {
   "cell_type": "code",
   "execution_count": 9,
   "id": "c4c7c1a5",
   "metadata": {},
   "outputs": [
    {
     "name": "stdout",
     "output_type": "stream",
     "text": [
      "['hello world']\n"
     ]
    }
   ],
   "source": [
    "# program 4\n",
    "\n",
    "a=[\"hello world\"]\n",
    "print(a)\n"
   ]
  },
  {
   "cell_type": "code",
   "execution_count": 10,
   "id": "e9257505",
   "metadata": {},
   "outputs": [
    {
     "name": "stdout",
     "output_type": "stream",
     "text": [
      "hello world\n",
      "hello world\n",
      "hello world\n",
      "hello world\n",
      "hello world\n"
     ]
    }
   ],
   "source": [
    "# program 5\n",
    "\n",
    "a=\"hello world\"\n",
    "for _ in range (5):\n",
    "    print(a)"
   ]
  },
  {
   "cell_type": "code",
   "execution_count": 11,
   "id": "74a4f0a5",
   "metadata": {},
   "outputs": [
    {
     "name": "stdout",
     "output_type": "stream",
     "text": [
      "enter and number: 3\n",
      "3\n",
      "enter and number: 3\n",
      "3\n",
      "3\n",
      "enter and number: 399\n",
      "399\n"
     ]
    }
   ],
   "source": [
    "a= int(input(\"enter and number: \"))\n",
    "while (a<39):\n",
    "    print(a) \n",
    "    a= int(input(\"enter and number: \"))\n",
    "    print (a)"
   ]
  },
  {
   "cell_type": "code",
   "execution_count": 14,
   "id": "455af0ee",
   "metadata": {},
   "outputs": [
    {
     "name": "stdout",
     "output_type": "stream",
     "text": [
      "5\n",
      "4\n",
      "3\n",
      "2\n",
      "1\n"
     ]
    }
   ],
   "source": [
    "count =5\n",
    "while(count>0):\n",
    "    print (count)\n",
    "    count=count-1"
   ]
  },
  {
   "cell_type": "code",
   "execution_count": null,
   "id": "4daec26b",
   "metadata": {},
   "outputs": [
    {
     "name": "stdout",
     "output_type": "stream",
     "text": [
      "Enter your name\n",
      "its a mandatory filed please enter\n",
      "Enter your name\n",
      "its a mandatory filed please enter\n",
      "Enter your name22\n",
      "its a mandatory filed please enter\n",
      "Enter your name22\n",
      "its a mandatory filed please enter\n"
     ]
    }
   ],
   "source": [
    "name =input(\"Enter your name\")\n",
    "\n",
    "while name.isalpha() == False:\n",
    "\n",
    "    print(\"its a mandatory filed please enter\")\n",
    "    name =input(\"Enter your name\")\n",
    "else:\n",
    "  print(\"your name is \", name )"
   ]
  },
  {
   "cell_type": "code",
   "execution_count": null,
   "id": "07d85995",
   "metadata": {},
   "outputs": [],
   "source": [
    "al"
   ]
  },
  {
   "cell_type": "markdown",
   "id": "6ac1a141",
   "metadata": {},
   "source": [
    "## "
   ]
  }
 ],
 "metadata": {
  "kernelspec": {
   "display_name": "Python 3 (ipykernel)",
   "language": "python",
   "name": "python3"
  },
  "language_info": {
   "codemirror_mode": {
    "name": "ipython",
    "version": 3
   },
   "file_extension": ".py",
   "mimetype": "text/x-python",
   "name": "python",
   "nbconvert_exporter": "python",
   "pygments_lexer": "ipython3",
   "version": "3.11.3"
  }
 },
 "nbformat": 4,
 "nbformat_minor": 5
}
