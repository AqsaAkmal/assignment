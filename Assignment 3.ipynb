{
 "cells": [
  {
   "cell_type": "code",
   "execution_count": 8,
   "id": "5be3c1d2",
   "metadata": {},
   "outputs": [
    {
     "name": "stdout",
     "output_type": "stream",
     "text": [
      "['apple', 'banana', 'orange', 'grape', 'kiwi']\n",
      "['apple', 'banana', 'orange', 'grape', 'kiwi', 'pears']\n",
      "['apple', 'mango', 'banana', 'orange', 'grape', 'kiwi', 'pears']\n",
      "['apple', 'banana', 'grape', 'kiwi']\n"
     ]
    }
   ],
   "source": [
    "fruits=[\"apple\", \"banana\", \"orange\", \"grape\",\"kiwi\"]\n",
    "print(fruits)\n",
    "\n",
    "#b) Add \"pear\" to the end of the list. \n",
    "\n",
    "fruits=[\"apple\", \"banana\", \"orange\", \"grape\",\"kiwi\"]\n",
    "fruits.append(\"pears\")\n",
    "print(fruits)\n",
    "\n",
    "#c) Insert \"mango\" at the second position in the list.\n",
    "\n",
    "\n",
    "fruits=[\"apple\", \"banana\", \"orange\", \"grape\",\"kiwi\"]\n",
    "fruits.append(\"pears\")\n",
    "fruits.insert(1,\"mango\")\n",
    "print(fruits)\n",
    "\n",
    "#d) Remove \"orange\" from the list.\n",
    "\n",
    "fruits=[\"apple\", \"banana\", \"orange\", \"grape\",\"kiwi\"]\n",
    "fruits.remove(\"orange\")\n",
    "print(fruits)"
   ]
  },
  {
   "cell_type": "code",
   "execution_count": 34,
   "id": "8d835497",
   "metadata": {},
   "outputs": [
    {
     "name": "stdout",
     "output_type": "stream",
     "text": [
      "[0, 1, 2, 3, 4, 5, 6, 7, 8, 9]\n",
      "3\n",
      "index 2 to 6 [2, 3, 4, 5, 6]\n",
      "[9, 8, 7]\n"
     ]
    }
   ],
   "source": [
    "#Question 2: Slicing and Indexing\n",
    "#a) Create a list named `numbers` containing the integers from 0 to 9.\n",
    "\n",
    "numbers=[0,1,2,3,4,5,6,7,8,9]\n",
    "print(numbers)\n",
    "\n",
    "#b) Print the element at index 3.\n",
    "\n",
    "numbers=[0,1,2,3,4,5,6,7,8,9]\n",
    "index=numbers[3]\n",
    "print(index)\n",
    "\n",
    "#c) Print a sublist containing the elements from index 2 to 6 (inclusive).\n",
    "\n",
    "\n",
    "numbers=[0,1,2,3,4,5,6,7,8,9]\n",
    "index=numbers[2:7]\n",
    "print(\"index 2 to 6\" , index)\n",
    "\n",
    "#d) Print the last three elements using negative indexing.\n",
    "\n",
    "numbers=[0,1,2,3,4,5,6,7,8,9]\n",
    "negative=numbers[-1:-4:-1]\n",
    "len(numbers)\n",
    "print(negative)\n"
   ]
  },
  {
   "cell_type": "code",
   "execution_count": 48,
   "id": "b97122f4",
   "metadata": {},
   "outputs": [
    {
     "name": "stdout",
     "output_type": "stream",
     "text": [
      "[1, 4, 9, 16, 25, 36, 49, 64, 81, 100]\n",
      "[0, 4, 16, 36, 64]\n"
     ]
    }
   ],
   "source": [
    "3#list compression\n",
    "\n",
    "#a) Create a list named `squares` using a list comprehension that contains the squares of numbers from 1\n",
    "\n",
    "squares=[x**2 for x in range(1,11)]\n",
    "print(squares)\n",
    "\n",
    "\n",
    "#b) Create a new list named `even_squares` using a list comprehension that contains the squares of even number from the square list\n",
    "\n",
    "numbers=[0,1,2,3,4,5,6,7,8,9]\n",
    "even_number=[i*i for i in numbers if i%2==0]\n",
    "print(even_number)\n",
    "\n",
    "\n"
   ]
  },
  {
   "cell_type": "code",
   "execution_count": 64,
   "id": "bb604e76",
   "metadata": {},
   "outputs": [
    {
     "name": "stdout",
     "output_type": "stream",
     "text": [
      "['purple', 'green', 'blue', 'yellow', 'red']\n"
     ]
    }
   ],
   "source": [
    "#4 list manipulation\n",
    "\n",
    "#a) Create a list named `colors` containing the following items: \"red\", \"green\", \"blue\", \"yellow\", \"purple\".\n",
    "\n",
    "color=[\"red\", \"green\", \"blue\", \"yellow\", \"purple\"]\n",
    "\n",
    "#b) Swap the first and last elements of the list.\n",
    "\n",
    "\n",
    "color=[\"red\", \"green\", \"blue\", \"yellow\", \"purple\"]\n",
    "\n",
    "color[0],color[-1]=color[-1],color[0]\n",
    "print(color)"
   ]
  },
  {
   "cell_type": "code",
   "execution_count": 17,
   "id": "efe053c6",
   "metadata": {},
   "outputs": [
    {
     "name": "stdout",
     "output_type": "stream",
     "text": [
      "['a', 'b', 'c', 'd', 'e', 'f', 'g', 'h', 'i', 'j']\n",
      "['a', 'b', 'c', 'd', 'e']\n",
      "['h', 'i', 'j']\n"
     ]
    }
   ],
   "source": [
    "# 5 Advance slicing\n",
    "\n",
    "#a) Create a list named `letters` containing the letters from 'a' to 'j'. \n",
    "\n",
    "letters=[\"a\",\"b\",\"c\",\"d\",\"e\",\"f\",\"g\",\"h\",\"i\",\"j\"]\n",
    "print(letters)\n",
    "\n",
    "#b) Using slicing, create a new list `first_half` containing the first half of the `letters` list.\n",
    "\n",
    "letters=[\"a\",\"b\",\"c\",\"d\",\"e\",\"f\",\"g\",\"h\",\"i\",\"j\"]\n",
    "first_half=letters[:len(letters)//2]\n",
    "print(first_half)\n",
    "\n",
    "#c) Using slicing, create a new list `last_three` containing the last three elements of the `letters` list.\n",
    "\n",
    "letters=[\"a\",\"b\",\"c\",\"d\",\"e\",\"f\",\"g\",\"h\",\"i\",\"j\"]\n",
    "print(letters[-3::])"
   ]
  },
  {
   "cell_type": "code",
   "execution_count": 35,
   "id": "95881f57",
   "metadata": {},
   "outputs": [
    {
     "name": "stdout",
     "output_type": "stream",
     "text": [
      "[1, 2, 3]\n",
      "[4, 5, 6]\n",
      "[7, 8, 9]\n",
      "Answer of row and column is 6\n",
      "[1, 2, 3]\n",
      "[4, 5, 6]\n",
      "[7, 8, 9]\n"
     ]
    }
   ],
   "source": [
    "# Create a nested list named `matrix` with the following rows:\n",
    "#[1 2 3]\n",
    "#[4 5 6]\n",
    "#[7 8 9]\n",
    "\n",
    "\n",
    "matrix=[[1, 2, 3],\n",
    "        [4, 5 ,6],\n",
    "        [7, 8 ,9]]\n",
    "\n",
    "for i in matrix:\n",
    "    print(i)\n",
    "\n",
    "#) Print the element in the second row and third column\n",
    "\n",
    "matrix=[[1, 2, 3],\n",
    "        [4, 5 ,6],\n",
    "        [7, 8 ,9]]\n",
    "\n",
    "row_column=matrix[1][2]\n",
    "print(\"Answer of row and column is\", row_column)\n",
    "\n",
    "# Use nested indexing to change the value at the second row and first column to 0.\n",
    "\n",
    "indexing=[[1, 2, 3],\n",
    "        [4, 5 ,6],\n",
    "        [7, 8 ,9]]\n",
    "indexing[1][0]=0\n",
    "for i in matrix:\n",
    "    print(i)"
   ]
  },
  {
   "cell_type": "code",
   "execution_count": null,
   "id": "411cfd47",
   "metadata": {},
   "outputs": [],
   "source": []
  }
 ],
 "metadata": {
  "kernelspec": {
   "display_name": "Python 3 (ipykernel)",
   "language": "python",
   "name": "python3"
  },
  "language_info": {
   "codemirror_mode": {
    "name": "ipython",
    "version": 3
   },
   "file_extension": ".py",
   "mimetype": "text/x-python",
   "name": "python",
   "nbconvert_exporter": "python",
   "pygments_lexer": "ipython3",
   "version": "3.11.3"
  }
 },
 "nbformat": 4,
 "nbformat_minor": 5
}
